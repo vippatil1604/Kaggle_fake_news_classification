{
 "cells": [
  {
   "cell_type": "code",
   "execution_count": 1,
   "metadata": {},
   "outputs": [],
   "source": [
    "### Import Libraries \n",
    "import re\n",
    "import matplotlib\n",
    "import numpy as np\n",
    "import matplotlib.pyplot as plt\n",
    "import pandas as pd\n",
    "from nltk.corpus import stopwords\n",
    "stop_words = set(stopwords.words('english'))\n",
    "from sklearn.svm import LinearSVC\n",
    "import seaborn as sns\n",
    "import pandas as pd\n",
    "from keras.preprocessing.text import Tokenizer\n",
    "from keras.preprocessing.sequence import pad_sequences\n",
    "from keras.utils import to_categorical\n",
    "from keras.models import Sequential\n",
    "from keras.layers import Dense, LSTM, Embedding, Input\n",
    "from sklearn.model_selection import train_test_split\n"
   ]
  },
  {
   "cell_type": "code",
   "execution_count": 2,
   "metadata": {},
   "outputs": [],
   "source": [
    "### Reading csv data files using pandas dataframe \n",
    "\n",
    "train = pd.read_csv(\"C:/Users/Vishal Patil/Desktop/Data Science/Kaggle/jigsaw_toxic_comment_classification/train.csv\", encoding = \"ISO-8859-1\")\n",
    "test = pd.read_csv(\"C:/Users/Vishal Patil/Desktop/Data Science/Kaggle/jigsaw_toxic_comment_classification/test.csv\", encoding = \"ISO-8859-1\")"
   ]
  },
  {
   "cell_type": "code",
   "execution_count": 3,
   "metadata": {},
   "outputs": [
    {
     "name": "stdout",
     "output_type": "stream",
     "text": [
      "Nulls in training dataset id               0\n",
      "comment_text     0\n",
      "toxic            0\n",
      "severe_toxic     0\n",
      "obscene          0\n",
      "threat           0\n",
      "insult           0\n",
      "identity_hate    0\n",
      "dtype: int64\n",
      "\n",
      "Nulls in test dataset id              0\n",
      "comment_text    0\n",
      "dtype: int64\n"
     ]
    }
   ],
   "source": [
    "### Checking nulls in both the datasets\n",
    "\n",
    "print(\"Nulls in training dataset\",train.isnull().sum())\n",
    "print(\"\\nNulls in test dataset\",test.isnull().sum())\n",
    "\n",
    "### There are no missing values in both the datasets"
   ]
  },
  {
   "cell_type": "code",
   "execution_count": 4,
   "metadata": {},
   "outputs": [],
   "source": [
    "### Before cleaning the dataset I would like to perform EDA(Exploratory data analysis) by performing data visualization to understand\n",
    "### the distribution of different classes. I will be performing EDA on training dataset\n",
    "\n",
    "categorywise_data = train.drop(['id', 'comment_text'], axis=1)     ### Removed unnecessary columns - id and comment_text\n",
    "counts_category = []                                               ### A list that contains tuple which consists of class label and number of comments for that particular class \n",
    "categories = list(categorywise_data.columns.values)\n",
    "for i in categories:\n",
    "    counts_category.append((i, categorywise_data[i].sum()))\n",
    "    \n",
    "dataframe = pd.DataFrame(counts_category, columns=['Labels', 'number_of_comments'])   ### Dataframe made up of category and total number of comments"
   ]
  },
  {
   "cell_type": "code",
   "execution_count": 5,
   "metadata": {},
   "outputs": [
    {
     "data": {
      "text/plain": [
       "Text(0.5, 0, 'Labels')"
      ]
     },
     "execution_count": 5,
     "metadata": {},
     "output_type": "execute_result"
    },
    {
     "data": {
      "image/png": "[encoded data removed]",
      "text/plain": [
       "<Figure size 576x576 with 1 Axes>"
      ]
     },
     "metadata": {
      "needs_background": "light"
     },
     "output_type": "display_data"
    }
   ],
   "source": [
    "### Visualization 1\n",
    "\n",
    "### Bar graph of total number of comments per label \n",
    "### This visualization is helpful in identifying the total number of comments per label\n",
    "dataframe.plot(x='Labels', y='number_of_comments', kind='bar',figsize=(8,8))\n",
    "plt.title(\"Number of comments per category\")\n",
    "plt.ylabel('No. of Occurrences', fontsize=12)\n",
    "plt.xlabel('Labels', fontsize=12)\n",
    "\n",
    "### From the below graph we can observe that most of the comments having toxic label. \n",
    "### Threat label is having lowest no. of comments"
   ]
  },
  {
   "cell_type": "code",
   "execution_count": 6,
   "metadata": {},
   "outputs": [
    {
     "data": {
      "text/html": [
       "<div>\n",
       "<style scoped>\n",
       "    .dataframe tbody tr th:only-of-type {\n",
       "        vertical-align: middle;\n",
       "    }\n",
       "\n",
       "    .dataframe tbody tr th {\n",
       "        vertical-align: top;\n",
       "    }\n",
       "\n",
       "    .dataframe thead th {\n",
       "        text-align: right;\n",
       "    }\n",
       "</style>\n",
       "<table border=\"1\" class=\"dataframe\">\n",
       "  <thead>\n",
       "    <tr style=\"text-align: right;\">\n",
       "      <th></th>\n",
       "      <th>0</th>\n",
       "      <th>Total no. of sentences</th>\n",
       "      <th>Total No. of labels in a sentence</th>\n",
       "    </tr>\n",
       "  </thead>\n",
       "  <tbody>\n",
       "    <tr>\n",
       "      <td>0</td>\n",
       "      <td>143346</td>\n",
       "      <td>143346</td>\n",
       "      <td>0</td>\n",
       "    </tr>\n",
       "    <tr>\n",
       "      <td>1</td>\n",
       "      <td>6360</td>\n",
       "      <td>6360</td>\n",
       "      <td>1</td>\n",
       "    </tr>\n",
       "    <tr>\n",
       "      <td>3</td>\n",
       "      <td>4209</td>\n",
       "      <td>4209</td>\n",
       "      <td>3</td>\n",
       "    </tr>\n",
       "    <tr>\n",
       "      <td>2</td>\n",
       "      <td>3480</td>\n",
       "      <td>3480</td>\n",
       "      <td>2</td>\n",
       "    </tr>\n",
       "    <tr>\n",
       "      <td>4</td>\n",
       "      <td>1760</td>\n",
       "      <td>1760</td>\n",
       "      <td>4</td>\n",
       "    </tr>\n",
       "    <tr>\n",
       "      <td>5</td>\n",
       "      <td>385</td>\n",
       "      <td>385</td>\n",
       "      <td>5</td>\n",
       "    </tr>\n",
       "    <tr>\n",
       "      <td>6</td>\n",
       "      <td>31</td>\n",
       "      <td>31</td>\n",
       "      <td>6</td>\n",
       "    </tr>\n",
       "  </tbody>\n",
       "</table>\n",
       "</div>"
      ],
      "text/plain": [
       "        0  Total no. of sentences  Total No. of labels in a sentence\n",
       "0  143346                  143346                                  0\n",
       "1    6360                    6360                                  1\n",
       "3    4209                    4209                                  3\n",
       "2    3480                    3480                                  2\n",
       "4    1760                    1760                                  4\n",
       "5     385                     385                                  5\n",
       "6      31                      31                                  6"
      ]
     },
     "execution_count": 6,
     "metadata": {},
     "output_type": "execute_result"
    },
    {
     "data": {
      "image/png": "[encoded data removed]",
      "text/plain": [
       "<Figure size 576x576 with 1 Axes>"
      ]
     },
     "metadata": {
      "needs_background": "light"
     },
     "output_type": "display_data"
    }
   ],
   "source": [
    "### Visualization 2\n",
    "\n",
    "### Bar graph of Total No. of labels in a sentence against Total no. of sentences\n",
    "### This visualization is helpful in identifying whether a sentence belongs to only one category or many categories\n",
    "\n",
    "dataframe = pd.DataFrame(pd.DataFrame(train[train.columns[2:]].sum(axis=1)).reset_index()[0].value_counts())\n",
    "dataframe[\"Total no. of sentences\"]=dataframe[0]\n",
    "dataframe[\"Total No. of labels in a sentence\"]=dataframe.index\n",
    "dataframe.plot(x=\"Total No. of labels in a sentence\", y=\"Total no. of sentences\", kind='bar',figsize=(8,8))\n",
    "plt.title(\"No of comments based on the count of labels\")\n",
    "plt.ylabel('Total no. of sentences', fontsize=12)\n",
    "plt.xlabel('Total No. of labels in a sentence', fontsize=12)\n",
    "dataframe\n",
    "\n",
    "### From the below graph we can see that 1,43,346 out of 1,59,571 sentences does not have any labels(class 0).\n",
    "### we can observe that a single sentence can have multiple labels. It can be a toxic sentence or it can be a toxic as well as obscene senetence."
   ]
  },
  {
   "cell_type": "code",
   "execution_count": 7,
   "metadata": {},
   "outputs": [
    {
     "data": {
      "text/plain": [
       "<matplotlib.axes._subplots.AxesSubplot at 0x331e27c2c8>"
      ]
     },
     "execution_count": 7,
     "metadata": {},
     "output_type": "execute_result"
    },
    {
     "data": {
      "image/png": "[encoded data removed]",
      "text/plain": [
       "<Figure size 1080x864 with 6 Axes>"
      ]
     },
     "metadata": {
      "needs_background": "light"
     },
     "output_type": "display_data"
    }
   ],
   "source": [
    "### Visualization 3\n",
    "\n",
    "### Graph of individual class against the total no. of labelled and unlabelled sentences for the same class\n",
    "\n",
    "fig, plots = plt.subplots(2,3,figsize=(15,12))\n",
    "plot1, plot2, plot3, plot4, plot5, plot6 = plots.flatten()\n",
    "sns.countplot(train['obscene'], ax = plot1)\n",
    "sns.countplot(train['threat'], ax = plot2)\n",
    "sns.countplot(train['insult'], ax = plot3)\n",
    "sns.countplot(train['identity_hate'], ax = plot4)\n",
    "sns.countplot(train['toxic'], ax = plot5)\n",
    "sns.countplot(train['severe_toxic'], ax = plot6)\n",
    "\n",
    "### From this graph it can be concluded that every class(category) is having higher no. of unlabelled sentences(0) as compared\n",
    "### to labelled sentences(1)"
   ]
  },
  {
   "cell_type": "code",
   "execution_count": 8,
   "metadata": {},
   "outputs": [
    {
     "data": {
      "image/png": "[encoded data removed]",
      "text/plain": [
       "<Figure size 432x288 with 2 Axes>"
      ]
     },
     "metadata": {
      "needs_background": "light"
     },
     "output_type": "display_data"
    }
   ],
   "source": [
    "### Visualization 4\n",
    "\n",
    "### Correlation between different variables\n",
    "### Correlation helps us finding relationship/dependency between different variables. \n",
    "\n",
    "target_data = train.drop(['id', 'comment_text'], axis=1)\n",
    "corrMatrix = target_data.corr()\n",
    "sns.heatmap(corrMatrix, annot=True)\n",
    "plt.show()\n",
    "\n",
    "### Correlation coefficient ranges from -1 to 1. Values always range between -1 imply strong negative relationship\n",
    "### between variables and +1 imply a strong positive relationship between variables. \n",
    "### Values at or close to zero imply weak or no linear relationship. \n",
    "### From the correlation matrix(graph), it can be concluded that some labels are highely correlated. Those varibles are mentioned below \n",
    "### (Correlation coefficient for insult-obscene is 0.74, Correlation coefficient for toxic-obscene is 0.68 and Correlation coefficient for toxic-insult is 0.65)."
   ]
  },
  {
   "cell_type": "code",
   "execution_count": 9,
   "metadata": {},
   "outputs": [],
   "source": [
    "### From visualization we can conclude following things\n",
    "### 1) A single sentence can have multiple labels (categories)\n",
    "### 2) Some labels are highely correlated to each other\n",
    "### 3) This is multi label classification problem "
   ]
  },
  {
   "cell_type": "code",
   "execution_count": 10,
   "metadata": {},
   "outputs": [],
   "source": [
    "### Data cleaning/Preparation \n",
    "\n",
    "def clean_text(text):\n",
    "    text = text.lower()\n",
    "    text = re.sub(r\"what's\", \"what is \", text)      ### conversion of contraction words to expanded words\n",
    "    text = re.sub(r\"\\'s\", \" \", text)\n",
    "    text = re.sub(r\"\\'ve\", \" have \", text)\n",
    "    text = re.sub(r\"can't\", \"can not \", text)\n",
    "    text = re.sub(r\"n't\", \" not \", text)\n",
    "    text = re.sub(r\"i'm\", \"i am \", text)\n",
    "    text = re.sub(r\"\\'re\", \" are \", text)\n",
    "    text = re.sub(r\"\\'d\", \" would \", text)\n",
    "    text = re.sub(r\"\\'ll\", \" will \", text)\n",
    "    text = re.sub(r\"\\'scuse\", \" excuse \", text)\n",
    "    text = re.sub('\\W', ' ', text)                                                 ### removing non-word characters\n",
    "    text = re.sub('[^A-Za-z\\' ]+', '',text)                                        ### removing all non-alphanumeric values(Except single quotes)\n",
    "    text = re.sub('\\s+', ' ', text)\n",
    "    text = text.strip(' ')\n",
    "    text = ' '.join([word for word in text.split() if word not in (stop_words)])    ### Stopwords removal\n",
    "    return text\n",
    "\n",
    "train[\"comment_text\"] = train[\"comment_text\"].apply(clean_text)\n",
    "test[\"comment_text\"] = test[\"comment_text\"].apply(clean_text)\n"
   ]
  },
  {
   "cell_type": "code",
   "execution_count": 11,
   "metadata": {},
   "outputs": [],
   "source": [
    "### Splitting up the labels and data\n",
    "### Training dataset is splitted into 2 parts. 1st part includes the training data(train_data) and 2nd part includes labels(train_label) \n",
    "### associated with the training data\n",
    "### Test dataset is having only 1 part i.e. test data which is used to predict the labels. \n",
    "\n",
    "train_data = train[\"comment_text\"]\n",
    "test_data = test[\"comment_text\"]\n",
    "train_label=train[['toxic', 'severe_toxic', 'obscene', 'threat','insult', 'identity_hate']]\n"
   ]
  },
  {
   "cell_type": "code",
   "execution_count": 12,
   "metadata": {},
   "outputs": [],
   "source": [
    "### Creating corpus of words and coverting it into integer and then susbstituing it in sentences - prepare tokenizer\n",
    "tokenizer = Tokenizer(num_words = 40000) #40000 words are used here\n",
    "tokenizer.fit_on_texts(train_data)\n",
    "\n",
    "#convert each text into array of integers with help of tokenizer.\n",
    "train_final = tokenizer.texts_to_sequences(train_data)\n",
    "test_final = tokenizer.texts_to_sequences(test_data)"
   ]
  },
  {
   "cell_type": "code",
   "execution_count": 13,
   "metadata": {},
   "outputs": [
    {
     "name": "stdout",
     "output_type": "stream",
     "text": [
      "Shape of training data (159571, 150)\n",
      "Shape of training data (153164, 150)\n"
     ]
    }
   ],
   "source": [
    "### Padding - Every sentence is unequal in length. We need to have all the sentence equal in lengths\n",
    "### If length of sentence is less than 150 then padding will increase sentence length to 150 by adding zeros, if its greater\n",
    "### than 150 then it will reduce the length of sentence to 150 by trimming the words\n",
    "\n",
    "train_padded =pad_sequences(train_final, maxlen=150)\n",
    "test_padded =pad_sequences(test_final, maxlen=150)\n",
    "print(\"Shape of training data\",train_padded.shape)\n",
    "print(\"Shape of testing data\",test_padded.shape)\n"
   ]
  },
  {
   "cell_type": "code",
   "execution_count": 19,
   "metadata": {},
   "outputs": [
    {
     "name": "stdout",
     "output_type": "stream",
     "text": [
      "Model: \"sequential_2\"\n",
      "_________________________________________________________________\n",
      "Layer (type)                 Output Shape              Param #   \n",
      "=================================================================\n",
      "embedding_2 (Embedding)      (None, None, 128)         5120000   \n",
      "_________________________________________________________________\n",
      "lstm_4 (LSTM)                (None, None, 64)          49408     \n",
      "_________________________________________________________________\n",
      "lstm_5 (LSTM)                (None, 64)                33024     \n",
      "_________________________________________________________________\n",
      "dense_4 (Dense)              (None, 6)                 390       \n",
      "=================================================================\n",
      "Total params: 5,202,822\n",
      "Trainable params: 5,202,822\n",
      "Non-trainable params: 0\n",
      "_________________________________________________________________\n"
     ]
    }
   ],
   "source": [
    "### Building a model\n",
    "### I have built a sequential model using LSTM. Initial layer contains a word embedding layer having 128 hidden units. \n",
    "### Input to the LSTM model is given in the shape of an array of (159571, 150). There are 6 main classes and every class is having 2 sub classes.\n",
    "### For every Input observation, there are 6 labels. \n",
    "### I have used 2 LSTM layer with 64 hidden units. 1 Dense layer which is an output layer. Dropout probability is set to 0.2 for\n",
    "### 2 lSTM layers which will dropout the 20 percent of neuron automatically while training.Dropout resolves the problem of overfitting. \n",
    "### Output layer contains 6 hidden units. I have used sigmoid activation function in the output layer. The reason behind using\n",
    "### sigmoid activation function in the output layer is because we have multi label classification problem.\n",
    "### Every class(label) is having 2 more classes i.e.0 and 1 to predict. \n",
    "\n",
    "model = Sequential()\n",
    "model.add(Embedding(40000, 128))\n",
    "model.add(LSTM(units = 64, dropout = 0.2,return_sequences=True))\n",
    "model.add(LSTM(units = 64, dropout = 0.2))\n",
    "model.add(Dense(units = 6, activation = 'sigmoid'))\n",
    "model.summary()"
   ]
  },
  {
   "cell_type": "code",
   "execution_count": 20,
   "metadata": {},
   "outputs": [
    {
     "name": "stdout",
     "output_type": "stream",
     "text": [
      "3740/3740 [==============================] - 1852s 495ms/step - loss: 0.0704 - auc: 0.9587 - val_loss: 0.0495 - val_auc: 0.9779\n"
     ]
    },
    {
     "data": {
      "text/plain": [
       "<tensorflow.python.keras.callbacks.History at 0x3341602188>"
      ]
     },
     "execution_count": 20,
     "metadata": {},
     "output_type": "execute_result"
    }
   ],
   "source": [
    "### Compiling the model and training the model using training dataset\n",
    "### We need to define loss function to measure the loss. Our problem is multi label multi classification problem.\n",
    "### Hence I decided to take loss function as binary_crossentropy. (Reference - https://www.dlology.com/blog/how-to-choose-last-layer-activation-and-loss-function/)\n",
    "### Adam optimizer is best for this problem. I tried RMSprop also but didn't get good accuracy. So decided to go with adam optimizer\n",
    "### accuracy metric has been used. Dataset is divided into training and validation set. \n",
    "### We got an accuracy of 97.79% on validation dataset. batch_size is 32 . \n",
    "### These are the Number of samples that goes through the network at a time and calculates the loss by updating the parameters.\n",
    "### I used only 1 epoch because I got almost 97% accuracy in 1 iteration.\n",
    "### Submission from the competition was evaluated on the basis of AUC. Hence i decided to use AUC metrics.\n",
    "### AUC is area under the curve. It can be calculated from receiver operating curve\n",
    "\n",
    "model.compile(loss = \"binary_crossentropy\", optimizer = \"adam\", metrics = [\"AUC\"])\n",
    "x_train, x_val, y_train, y_val = train_test_split(train_padded, train_label, shuffle = True, random_state = 123)\n",
    "model.fit(x_train, y_train, batch_size = 32, epochs = 1, validation_data = (x_val, y_val))"
   ]
  },
  {
   "cell_type": "code",
   "execution_count": 31,
   "metadata": {},
   "outputs": [],
   "source": [
    "### Prediction for test data\n",
    "predict = model.predict(test_padded)\n"
   ]
  },
  {
   "cell_type": "code",
   "execution_count": 33,
   "metadata": {},
   "outputs": [
    {
     "name": "stdout",
     "output_type": "stream",
     "text": [
      "Predicted values [[9.76957679e-01 3.13972712e-01 9.33733821e-01 5.85845709e-02\n",
      "  7.25662410e-01 1.31143481e-01]\n",
      " [4.64612246e-03 8.62794841e-05 6.15268946e-04 4.75585461e-04\n",
      "  1.04561448e-03 3.88711691e-04]\n",
      " [7.90655613e-03 1.19516531e-04 8.71986151e-04 7.25209713e-04\n",
      "  1.61722302e-03 5.64515591e-04]\n",
      " ...\n",
      " [2.66641378e-03 6.34066237e-05 4.41044569e-04 3.02791595e-04\n",
      "  6.65843487e-04 2.63273716e-04]\n",
      " [2.61595845e-03 6.18302802e-05 4.32729721e-04 2.99215317e-04\n",
      "  6.54280186e-04 2.59876251e-04]\n",
      " [9.76678848e-01 1.22220516e-01 8.57039690e-01 3.67633402e-02\n",
      "  7.10305631e-01 8.47513676e-02]]\n"
     ]
    }
   ],
   "source": [
    "print(\"Predicted values are\",predict)"
   ]
  },
  {
   "cell_type": "code",
   "execution_count": 66,
   "metadata": {},
   "outputs": [
    {
     "data": {
      "text/html": [
       "<div>\n",
       "<style scoped>\n",
       "    .dataframe tbody tr th:only-of-type {\n",
       "        vertical-align: middle;\n",
       "    }\n",
       "\n",
       "    .dataframe tbody tr th {\n",
       "        vertical-align: top;\n",
       "    }\n",
       "\n",
       "    .dataframe thead th {\n",
       "        text-align: right;\n",
       "    }\n",
       "</style>\n",
       "<table border=\"1\" class=\"dataframe\">\n",
       "  <thead>\n",
       "    <tr style=\"text-align: right;\">\n",
       "      <th></th>\n",
       "      <th>id</th>\n",
       "      <th>toxic</th>\n",
       "      <th>severe_toxic</th>\n",
       "      <th>obscene</th>\n",
       "      <th>threat</th>\n",
       "      <th>insult</th>\n",
       "      <th>identity_hate</th>\n",
       "    </tr>\n",
       "  </thead>\n",
       "  <tbody>\n",
       "    <tr>\n",
       "      <td>0</td>\n",
       "      <td>00001cee341fdb12</td>\n",
       "      <td>0.976958</td>\n",
       "      <td>0.313973</td>\n",
       "      <td>0.933734</td>\n",
       "      <td>0.058585</td>\n",
       "      <td>0.725662</td>\n",
       "      <td>0.131143</td>\n",
       "    </tr>\n",
       "    <tr>\n",
       "      <td>1</td>\n",
       "      <td>0000247867823ef7</td>\n",
       "      <td>0.004646</td>\n",
       "      <td>0.000086</td>\n",
       "      <td>0.000615</td>\n",
       "      <td>0.000476</td>\n",
       "      <td>0.001046</td>\n",
       "      <td>0.000389</td>\n",
       "    </tr>\n",
       "    <tr>\n",
       "      <td>2</td>\n",
       "      <td>00013b17ad220c46</td>\n",
       "      <td>0.007907</td>\n",
       "      <td>0.000120</td>\n",
       "      <td>0.000872</td>\n",
       "      <td>0.000725</td>\n",
       "      <td>0.001617</td>\n",
       "      <td>0.000565</td>\n",
       "    </tr>\n",
       "    <tr>\n",
       "      <td>3</td>\n",
       "      <td>00017563c3f7919a</td>\n",
       "      <td>0.003322</td>\n",
       "      <td>0.000073</td>\n",
       "      <td>0.000560</td>\n",
       "      <td>0.000349</td>\n",
       "      <td>0.000831</td>\n",
       "      <td>0.000297</td>\n",
       "    </tr>\n",
       "    <tr>\n",
       "      <td>4</td>\n",
       "      <td>00017695ad8997eb</td>\n",
       "      <td>0.007922</td>\n",
       "      <td>0.000117</td>\n",
       "      <td>0.000884</td>\n",
       "      <td>0.000717</td>\n",
       "      <td>0.001631</td>\n",
       "      <td>0.000553</td>\n",
       "    </tr>\n",
       "  </tbody>\n",
       "</table>\n",
       "</div>"
      ],
      "text/plain": [
       "                 id     toxic  severe_toxic   obscene    threat    insult  \\\n",
       "0  00001cee341fdb12  0.976958      0.313973  0.933734  0.058585  0.725662   \n",
       "1  0000247867823ef7  0.004646      0.000086  0.000615  0.000476  0.001046   \n",
       "2  00013b17ad220c46  0.007907      0.000120  0.000872  0.000725  0.001617   \n",
       "3  00017563c3f7919a  0.003322      0.000073  0.000560  0.000349  0.000831   \n",
       "4  00017695ad8997eb  0.007922      0.000117  0.000884  0.000717  0.001631   \n",
       "\n",
       "   identity_hate  \n",
       "0       0.131143  \n",
       "1       0.000389  \n",
       "2       0.000565  \n",
       "3       0.000297  \n",
       "4       0.000553  "
      ]
     },
     "execution_count": 66,
     "metadata": {},
     "output_type": "execute_result"
    }
   ],
   "source": [
    "### predicted probabilities of each id in the test set, for all the target columns\n",
    "\n",
    "target_cols = np.array(['toxic','severe_toxic','obscene', 'threat','insult', 'identity_hate'])\n",
    "final_predict_test = pd.concat([pd.DataFrame(predict, columns=target_cols)], 1)\n",
    "t1 = test['id']\n",
    "final_predict_test = pd.concat([t1,final_predict_test],1)\n",
    "final_predict_test.head()"
   ]
  },
  {
   "cell_type": "code",
   "execution_count": null,
   "metadata": {},
   "outputs": [],
   "source": [
    "#### Complete description of classification system using neural networks\n",
    "\n",
    "## This classification system is built using LSTM which is a special type of RNN's. I have used Keras library to build neural network.\n",
    "## Recurrent Neural networks are used mostly for sequential data. We have sequential data(sentences). RNN's store information in their \"memory\".\n",
    "## Recurrent Neural networks stores the information about the computations which has already been performed.\n",
    "## Variety of RNN achitectures are available based on the need of the user. I have used LSTM which is a special type of RNN.\n",
    "## Even though RNN are good for sequence modelling, it still have issues and it tends to have vanishing gradient problem.\n",
    "## Vanishing gradient problem is faced by neural networks which uses activation function having small gradient(0 to 1).\n",
    "## During backpropagation phase, these gradients either tend to become 0 or they vanishes. This happens because RNN's are not\n",
    "## capable of handling long-term dependencies. In order to avoid vanishing gradient problem LSTM are developed. \n",
    "## LSTM comes with LSTM cell. It helps to model and keep track of long term dependencies. \n",
    "\n",
    "### Process performed in this classification model are mentioned below.\n",
    "## Reading the dataset using pandas dataframe and checking whether it contains any null observations or not. There are no nulls in this dataset.\n",
    "## Many people clean the data first and then perform visualizations. I performed visualizations first. \n",
    "## I created 4 visualizations. \n",
    "## 1st visualization is a Bar graph of total number of comments per label. It is helpful in identifying the total number of comments per label\n",
    "## 2nd visualization is a Bar graph of Total No. of labels in a sentence against Total no. of sentences. \n",
    "## From 2nd visualization we can observe whether a sentence belongs to only one category or many categories. We can say that\n",
    "## there are many sentences which are not classified(label 0) but many sentences falls under more than 1 category.\n",
    "## 3rd Visualization is a Graph of individual class against the total no. of labelled and unlabelled sentences for the same class. \n",
    "## 4th Visualization is a Correlation graph(matrix) between different variables\n",
    "\n",
    "## From visualization we can conclude that,  1) A single sentence can have multiple labels (categories).\n",
    "## 2) Some labels are highely correlated to each other.\n",
    "## 3) This is multi label classification problem. Hence we can use sigmoid function in the output layer.\n",
    "\n",
    "### Next part includes cleaning the data. Data cleaning part is performed on the input text. \n",
    "## I created a function, which performs below activities: \n",
    "## 1) conversion of contraction words to expanded words , 2) removing stopwords , 3) lowercasing the words\n",
    "## 4) removing the non - alphanumeric characters   5) removing the extra spaces between words\n",
    "\n",
    "### Once we have cleaned the data, next part is creating input feature vectors.  \n",
    "## Tokenizer class from keras library is used. 40000 words has been selected based on the frequency of the words and assigned a number using keras tokenizer\n",
    "## Training dataset consists of sentences. Every sentence is made up of words. The number given to the words by the keras \n",
    "## tokenizer are used to build up a sentence. Padding is used to fix the sentence length to 150 words per sentence. \n",
    "\n",
    "\n",
    "### Input features are generated. Now its time to build a model. Model contains an Input embedding layer of 128 Hidden units.\n",
    "## Models contains 2 LSTM layers of 64 Hidden units and 1 output layer of 6 Hiddent units having sigmoid activation function.\n",
    "##Input to the neural network is given in the shape of (159571, 150).\n",
    "\n",
    "### Next part is compiling the model and training it on training dataset. Training dataset is divided in training and validation dataset\n",
    "##  Binary_crossentropy is used as a loss function. Adam optimizer is used. Accuracy metric has been used.\n",
    "## batch_size is 32 . These are the Number of samples that goes through the network at a time and calculates the loss by\n",
    "## updating the parameters.I used only 1 epoch because I got almost 97% accuracy in 1 iteration.\n"
   ]
  }
 ],
 "metadata": {
  "kernelspec": {
   "display_name": "Python 3",
   "language": "python",
   "name": "python3"
  },
  "language_info": {
   "codemirror_mode": {
    "name": "ipython",
    "version": 3
   },
   "file_extension": ".py",
   "mimetype": "text/x-python",
   "name": "python",
   "nbconvert_exporter": "python",
   "pygments_lexer": "ipython3",
   "version": "3.7.4"
  }
 },
 "nbformat": 4,
 "nbformat_minor": 2
}

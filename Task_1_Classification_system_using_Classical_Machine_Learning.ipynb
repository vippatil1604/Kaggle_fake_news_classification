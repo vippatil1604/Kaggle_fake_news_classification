{
  "nbformat": 4,
  "nbformat_minor": 0,
  "metadata": {
    "kernelspec": {
      "display_name": "Python 3",
      "language": "python",
      "name": "python3"
    },
    "language_info": {
      "codemirror_mode": {
        "name": "ipython",
        "version": 3
      },
      "file_extension": ".py",
      "mimetype": "text/x-python",
      "name": "python",
      "nbconvert_exporter": "python",
      "pygments_lexer": "ipython3",
      "version": "3.7.4"
    },
    "colab": {
      "name": "Task 1 - Classification system using Classical Machine Learning.ipynb",
      "provenance": [],
      "collapsed_sections": []
    }
  },
  "cells": [
    {
      "cell_type": "code",
      "metadata": {
        "colab": {
          "base_uri": "https://localhost:8080/"
        },
        "id": "csAQgv3nuHh_",
        "outputId": "df643df4-c377-414d-ddc5-b9266a9f6634"
      },
      "source": [
        "### Import Libraries \n",
        "import re\n",
        "import numpy as np\n",
        "import matplotlib.pyplot as plt\n",
        "import pandas as pd\n",
        "from sklearn.model_selection import train_test_split\n",
        "from sklearn.feature_extraction.text import TfidfVectorizer\n",
        "from sklearn.metrics import accuracy_score\n",
        "from sklearn.multiclass import OneVsRestClassifier\n",
        "from nltk.corpus import stopwords\n",
        "stop_words = set(stopwords.words('english'))\n",
        "from sklearn.linear_model import LogisticRegression\n",
        "from sklearn.pipeline import Pipeline\n",
        "import seaborn as sns\n",
        "import pandas as pd\n",
        "from scipy.sparse import hstack\n",
        "from nltk.stem import PorterStemmer\n",
        "import string\n",
        "!pip install scikit-multilearn             ### For installing scikit-multilearn\n",
        "#import skmultilearn\n",
        "from skmultilearn.problem_transform import LabelPowerset        # if error in this line this use import skmultilearn first\n"
      ],
      "execution_count": 1,
      "outputs": [
        {
          "output_type": "stream",
          "text": [
            "Requirement already satisfied: scikit-multilearn in /usr/local/lib/python3.7/dist-packages (0.2.0)\n"
          ],
          "name": "stdout"
        }
      ]
    },
    {
      "cell_type": "code",
      "metadata": {
        "id": "EuLgSFPuuHiC"
      },
      "source": [
        "### Reading csv data files using pandas dataframe \n",
        "\n",
        "train = pd.read_csv(\"/content/train.csv\", encoding = \"ISO-8859-1\")\n",
        "test = pd.read_csv(\"/content/test.csv\", encoding = \"ISO-8859-1\")"
      ],
      "execution_count": 2,
      "outputs": []
    },
    {
      "cell_type": "code",
      "metadata": {
        "colab": {
          "base_uri": "https://localhost:8080/"
        },
        "id": "mMdmNDP9uHiD",
        "outputId": "ea14723b-ddda-494e-e582-d424fbb9f856"
      },
      "source": [
        "### Checking nulls in both the datasets\n",
        "\n",
        "print(\"Nulls in training dataset\",train.isnull().sum())\n",
        "print(\"\\nNulls in test dataset\",test.isnull().sum())\n",
        "\n",
        "### There are no missing values in both the datasets"
      ],
      "execution_count": 3,
      "outputs": [
        {
          "output_type": "stream",
          "text": [
            "Nulls in training dataset id               0\n",
            "comment_text     0\n",
            "toxic            0\n",
            "severe_toxic     0\n",
            "obscene          0\n",
            "threat           0\n",
            "insult           0\n",
            "identity_hate    0\n",
            "dtype: int64\n",
            "\n",
            "Nulls in test dataset id              0\n",
            "comment_text    0\n",
            "dtype: int64\n"
          ],
          "name": "stdout"
        }
      ]
    },
    {
      "cell_type": "code",
      "metadata": {
        "id": "v9nwXJWauHiE"
      },
      "source": [
        "### Before cleaning the dataset I would like to perform EDA(Exploratory data analysis) by performing data visualization to understand\n",
        "### the distribution of different classes. I will be performing EDA on training dataset\n",
        "\n",
        "categorywise_data = train.drop(['id', 'comment_text'], axis=1)     ### Removed unnecessary columns - id and comment_text\n",
        "counts_category = []                                               ### A list that contains tuple which consists of class label and number of comments for that particular class \n",
        "categories = list(categorywise_data.columns.values)\n",
        "for i in categories:\n",
        "    counts_category.append((i, categorywise_data[i].sum()))\n",
        "    \n",
        "dataframe = pd.DataFrame(counts_category, columns=['Labels', 'number_of_comments'])   ### Dataframe made up of category and total number of comments"
      ],
      "execution_count": 8,
      "outputs": []
    },
    {
      "cell_type": "code",
      "metadata": {
        "colab": {
          "base_uri": "https://localhost:8080/",
          "height": 589
        },
        "id": "FGkoBzbpuHiF",
        "outputId": "2931cc53-d55f-4f14-ab5b-0aca515ecd86"
      },
      "source": [
        "### Visualization 1\n",
        "\n",
        "### Bar graph of total number of comments per label \n",
        "### This visualization is helpful in identifying the total number of comments per label\n",
        "dataframe.plot(x='Labels', y='number_of_comments', kind='bar',figsize=(8,8))\n",
        "plt.title(\"Number of comments per category\")\n",
        "plt.ylabel('No. of Occurrences', fontsize=12)\n",
        "plt.xlabel('Labels', fontsize=12)\n",
        "\n",
        "### From the below graph we can observe that most of the comments having toxic label. \n",
        "### Threat label is having lowest no. of comments"
      ],
      "execution_count": 9,
      "outputs": [
        {
          "output_type": "execute_result",
          "data": {
            "text/plain": [
              "Text(0.5, 0, 'Labels')"
            ]
          },
          "metadata": {
            "tags": []
          },
          "execution_count": 9
        },
        {
          "output_type": "display_data",
          "data": {
            "image/png": "[encoded data removed]",
            "text/plain": [
              "<Figure size 576x576 with 1 Axes>"
            ]
          },
          "metadata": {
            "tags": [],
            "needs_background": "light"
          }
        }
      ]
    },
    {
      "cell_type": "code",
      "metadata": {
        "colab": {
          "base_uri": "https://localhost:8080/",
          "height": 761
        },
        "id": "ar5XKZy9uHiG",
        "outputId": "582fb722-7420-4ba3-d7cb-08dcd2e21db5"
      },
      "source": [
        "### Visualization 2\n",
        "\n",
        "### Bar graph of Total No. of labels in a sentence against Total no. of sentences\n",
        "### This visualization is helpful in identifying whether a sentence belongs to only one category or many categories\n",
        "\n",
        "dataframe = pd.DataFrame(pd.DataFrame(train[train.columns[2:]].sum(axis=1)).reset_index()[0].value_counts())\n",
        "dataframe[\"Total no. of sentences\"]=dataframe[0]\n",
        "dataframe[\"Total No. of labels in a sentence\"]=dataframe.index\n",
        "dataframe.plot(x=\"Total No. of labels in a sentence\", y=\"Total no. of sentences\", kind='bar',figsize=(8,8))\n",
        "plt.title(\"No of comments based on the count of labels\")\n",
        "plt.ylabel('Total no. of sentences', fontsize=12)\n",
        "plt.xlabel('Total No. of labels in a sentence', fontsize=12)\n",
        "dataframe\n",
        "\n",
        "### From the below graph we can see that 1,43,346 out of 1,59,571 sentences does not have any labels(class 0).\n",
        "### we can observe that a single sentence can have multiple labels. It can be a toxic sentence or it can be a toxic as well as obscene senetence."
      ],
      "execution_count": 10,
      "outputs": [
        {
          "output_type": "execute_result",
          "data": {
            "text/html": [
              "<div>\n",
              "<style scoped>\n",
              "    .dataframe tbody tr th:only-of-type {\n",
              "        vertical-align: middle;\n",
              "    }\n",
              "\n",
              "    .dataframe tbody tr th {\n",
              "        vertical-align: top;\n",
              "    }\n",
              "\n",
              "    .dataframe thead th {\n",
              "        text-align: right;\n",
              "    }\n",
              "</style>\n",
              "<table border=\"1\" class=\"dataframe\">\n",
              "  <thead>\n",
              "    <tr style=\"text-align: right;\">\n",
              "      <th></th>\n",
              "      <th>0</th>\n",
              "      <th>Total no. of sentences</th>\n",
              "      <th>Total No. of labels in a sentence</th>\n",
              "    </tr>\n",
              "  </thead>\n",
              "  <tbody>\n",
              "    <tr>\n",
              "      <th>0</th>\n",
              "      <td>143346</td>\n",
              "      <td>143346</td>\n",
              "      <td>0</td>\n",
              "    </tr>\n",
              "    <tr>\n",
              "      <th>1</th>\n",
              "      <td>6360</td>\n",
              "      <td>6360</td>\n",
              "      <td>1</td>\n",
              "    </tr>\n",
              "    <tr>\n",
              "      <th>3</th>\n",
              "      <td>4209</td>\n",
              "      <td>4209</td>\n",
              "      <td>3</td>\n",
              "    </tr>\n",
              "    <tr>\n",
              "      <th>2</th>\n",
              "      <td>3480</td>\n",
              "      <td>3480</td>\n",
              "      <td>2</td>\n",
              "    </tr>\n",
              "    <tr>\n",
              "      <th>4</th>\n",
              "      <td>1760</td>\n",
              "      <td>1760</td>\n",
              "      <td>4</td>\n",
              "    </tr>\n",
              "    <tr>\n",
              "      <th>5</th>\n",
              "      <td>385</td>\n",
              "      <td>385</td>\n",
              "      <td>5</td>\n",
              "    </tr>\n",
              "    <tr>\n",
              "      <th>6</th>\n",
              "      <td>31</td>\n",
              "      <td>31</td>\n",
              "      <td>6</td>\n",
              "    </tr>\n",
              "  </tbody>\n",
              "</table>\n",
              "</div>"
            ],
            "text/plain": [
              "        0  Total no. of sentences  Total No. of labels in a sentence\n",
              "0  143346                  143346                                  0\n",
              "1    6360                    6360                                  1\n",
              "3    4209                    4209                                  3\n",
              "2    3480                    3480                                  2\n",
              "4    1760                    1760                                  4\n",
              "5     385                     385                                  5\n",
              "6      31                      31                                  6"
            ]
          },
          "metadata": {
            "tags": []
          },
          "execution_count": 10
        },
        {
          "output_type": "display_data",
          "data": {
            "image/png": "[encoded data removed]",
            "text/plain": [
              "<Figure size 576x576 with 1 Axes>"
            ]
          },
          "metadata": {
            "tags": [],
            "needs_background": "light"
          }
        }
      ]
    },
    {
      "cell_type": "code",
      "metadata": {
        "colab": {
          "base_uri": "https://localhost:8080/",
          "height": 956
        },
        "id": "XNxo89FOuHiG",
        "outputId": "bbd6e15c-b68d-432c-f7ce-205ecf42820d"
      },
      "source": [
        "### Visualization 3\n",
        "\n",
        "### Graph of individual class against the total no. of labelled and unlabelled sentences for the same class\n",
        "\n",
        "fig, plots = plt.subplots(2,3,figsize=(15,12))\n",
        "plot1, plot2, plot3, plot4, plot5, plot6 = plots.flatten()\n",
        "sns.countplot(train['obscene'], ax = plot1)\n",
        "sns.countplot(train['threat'], ax = plot2)\n",
        "sns.countplot(train['insult'], ax = plot3)\n",
        "sns.countplot(train['identity_hate'], ax = plot4)\n",
        "sns.countplot(train['toxic'], ax = plot5)\n",
        "sns.countplot(train['severe_toxic'], ax = plot6)\n",
        "\n",
        "### From this graph it can be concluded that every class(category) is having higher no. of unlabelled sentences(0) as compared\n",
        "### to labelled sentences(1)"
      ],
      "execution_count": 11,
      "outputs": [
        {
          "output_type": "stream",
          "text": [
            "/usr/local/lib/python3.7/dist-packages/seaborn/_decorators.py:43: FutureWarning: Pass the following variable as a keyword arg: x. From version 0.12, the only valid positional argument will be `data`, and passing other arguments without an explicit keyword will result in an error or misinterpretation.\n",
            "  FutureWarning\n",
            "/usr/local/lib/python3.7/dist-packages/seaborn/_decorators.py:43: FutureWarning: Pass the following variable as a keyword arg: x. From version 0.12, the only valid positional argument will be `data`, and passing other arguments without an explicit keyword will result in an error or misinterpretation.\n",
            "  FutureWarning\n",
            "/usr/local/lib/python3.7/dist-packages/seaborn/_decorators.py:43: FutureWarning: Pass the following variable as a keyword arg: x. From version 0.12, the only valid positional argument will be `data`, and passing other arguments without an explicit keyword will result in an error or misinterpretation.\n",
            "  FutureWarning\n",
            "/usr/local/lib/python3.7/dist-packages/seaborn/_decorators.py:43: FutureWarning: Pass the following variable as a keyword arg: x. From version 0.12, the only valid positional argument will be `data`, and passing other arguments without an explicit keyword will result in an error or misinterpretation.\n",
            "  FutureWarning\n",
            "/usr/local/lib/python3.7/dist-packages/seaborn/_decorators.py:43: FutureWarning: Pass the following variable as a keyword arg: x. From version 0.12, the only valid positional argument will be `data`, and passing other arguments without an explicit keyword will result in an error or misinterpretation.\n",
            "  FutureWarning\n",
            "/usr/local/lib/python3.7/dist-packages/seaborn/_decorators.py:43: FutureWarning: Pass the following variable as a keyword arg: x. From version 0.12, the only valid positional argument will be `data`, and passing other arguments without an explicit keyword will result in an error or misinterpretation.\n",
            "  FutureWarning\n"
          ],
          "name": "stderr"
        },
        {
          "output_type": "execute_result",
          "data": {
            "text/plain": [
              "<matplotlib.axes._subplots.AxesSubplot at 0x7f4f2ed97f50>"
            ]
          },
          "metadata": {
            "tags": []
          },
          "execution_count": 11
        },
        {
          "output_type": "display_data",
          "data": {
            "image/png": "[encoded data removed]",
            "text/plain": [
              "<Figure size 1080x864 with 6 Axes>"
            ]
          },
          "metadata": {
            "tags": [],
            "needs_background": "light"
          }
        }
      ]
    },
    {
      "cell_type": "code",
      "metadata": {
        "colab": {
          "base_uri": "https://localhost:8080/",
          "height": 325
        },
        "id": "ywP-k9QTuHiH",
        "outputId": "231d6e95-5ca4-4896-f001-5da28794ec50"
      },
      "source": [
        "### Visualization 4\n",
        "\n",
        "### Correlation between different variables\n",
        "### Correlation helps us finding relationship/dependency between different variables. \n",
        "\n",
        "target_data = train.drop(['id', 'comment_text'], axis=1)\n",
        "corrMatrix = target_data.corr()\n",
        "sns.heatmap(corrMatrix, annot=True)\n",
        "plt.show()\n",
        "\n",
        "### Correlation coefficient ranges from -1 to 1. Values always range between -1 imply strong negative relationship\n",
        "### between variables and +1 imply a strong positive relationship between variables. \n",
        "### Values at or close to zero imply weak or no linear relationship. \n",
        "### From the correlation matrix(graph), it can be concluded that some labels are highely correlated. Those varibles are mentioned below \n",
        "### (Correlation coefficient for insult-obscene is 0.74, Correlation coefficient for toxic-obscene is 0.68 and Correlation coefficient for toxic-insult is 0.65)."
      ],
      "execution_count": 12,
      "outputs": [
        {
          "output_type": "display_data",
          "data": {
            "image/png": "[encoded data removed]",
            "text/plain": [
              "<Figure size 432x288 with 2 Axes>"
            ]
          },
          "metadata": {
            "tags": [],
            "needs_background": "light"
          }
        }
      ]
    },
    {
      "cell_type": "code",
      "metadata": {
        "id": "NvqGlV9xuHiI"
      },
      "source": [
        "### From visualization we can conclude following things\n",
        "### 1) A single sentence can have multiple labels (categories)\n",
        "### 2) Some labels are highely correlated to each other\n",
        "### 3) This is multi label classification problem "
      ],
      "execution_count": null,
      "outputs": []
    },
    {
      "cell_type": "code",
      "metadata": {
        "id": "B7aYlGl8yo6T"
      },
      "source": [
        "## I have used stemming NLP operation below. It is taking time. Hence you need to increase the system recursionlimit. Otherwise it will give you an error.\r\n",
        "import sys\r\n",
        "sys.setrecursionlimit(10**6) "
      ],
      "execution_count": 10,
      "outputs": []
    },
    {
      "cell_type": "code",
      "metadata": {
        "id": "6hy5Yht1uHiI"
      },
      "source": [
        "### Data cleaning/Preparation \n",
        "\n",
        "def clean_text(text):\n",
        "    text = text.lower()\n",
        "    text = re.sub('\\@\\w+|\\#', ' ', text)                                                 ### removing non-word characters\n",
        "    text = re.sub('[^A-Za-z\\' ]+', '',text)                                              ### removing all non-alphanumeric values(Except single quotes)\n",
        "    text = re.sub('\\s+', ' ', text)\n",
        "    text = text.strip(' ')\n",
        "    text = re.sub(r\"http\\S+|www\\S+|https\\S+\", '', text)                                  ### Remove urls\n",
        "    text = text.translate(str.maketrans('', '', string.punctuation))                     ### remove punctuations\n",
        "    tokenized_words = [word for word in text.split() if word not in (stop_words)]         ### Stopwords removal\n",
        "    ps = PorterStemmer()\n",
        "    stemmed_words = [ps.stem(w) for w in tokenized_words]                                ### Stemming the words\n",
        "    \n",
        "    return \" \".join(stemmed_words)\n",
        "\n",
        "\n",
        "train[\"comment_text\"] = train[\"comment_text\"].apply(clean_text)\n",
        "test[\"comment_text\"] = test[\"comment_text\"].apply(clean_text)\n"
      ],
      "execution_count": 11,
      "outputs": []
    },
    {
      "cell_type": "code",
      "metadata": {
        "id": "H7raEsFquHiJ"
      },
      "source": [
        "### Splitting up the labels and data\n",
        "### Training dataset is splitted into 2 parts. 1st part includes the training data(train_data) and 2nd part includes labels(train_label) \n",
        "### associated with the training data\n",
        "### Test dataset is having only 1 part i.e. test data which is used to predict the labels. \n",
        "\n",
        "train_data = train[\"comment_text\"]\n",
        "test_data = test[\"comment_text\"]\n",
        "train_label=train[['toxic', 'severe_toxic', 'obscene', 'threat','insult', 'identity_hate']]\n"
      ],
      "execution_count": 12,
      "outputs": []
    },
    {
      "cell_type": "code",
      "metadata": {
        "id": "fU9-lfeE1qL0"
      },
      "source": [
        "### create input feature vector using tf-idf. 20000 words are choosen with an ingram range of 1,2. It will consider take unigram and bigram while creating the matrix. \r\n",
        "### word vector will be a combination of unigram as well as bigram.\r\n",
        "##I decided to use word vectorizer along with well as character vectorizer in order to get a good robust set of input features. \r\n",
        "### tf-idf is the famous algorithm used to convert the text into numbers. TF-IDF for a word in a document is calculated by multiplying two different metrics.\r\n",
        "### Those 2 metrics are term frequency(tf) and inverse document frequency (idf).In term frequency, frequency of a word can be calculated by taking raw count of instances a word appearance in that document. \r\n",
        "### Frequency can be adjusted by adjusting length of a document, or by adjusting the raw frequency of the most frequent word in a document.\r\n",
        "### The inverse document frequency of the word across a set of documents. This means, how common or rare a word is in the entire document set. The closer it is to 0, the more common a word is. This metric can be calculated by taking the total number of documents, dividing it by the number of documents that contain a word, and calculating the logarithm.\r\n",
        "### So, if the word is very common and appears in many documents, this number will approach 0. Otherwise, it will approach 1.\r\n",
        "### Multiplying these two numbers results in the TF-IDF score of a word in a document. The higher the score, the more relevant that word is in that particular document.\r\n",
        "\r\n",
        "word_vec = TfidfVectorizer(\r\n",
        "    sublinear_tf=True,\r\n",
        "    strip_accents='unicode',\r\n",
        "    analyzer='word',\r\n",
        "    ngram_range=(1, 2),\r\n",
        "    max_features=20000)\r\n",
        "train_word_features = word_vec.fit_transform(train_data)\r\n",
        "test_word_features =  word_vec.fit_transform(test_data)\r\n"
      ],
      "execution_count": 13,
      "outputs": []
    },
    {
      "cell_type": "code",
      "metadata": {
        "id": "SRt7AxX33Rjb"
      },
      "source": [
        "### This is the character vectorization. 50000 characters are choosen with an ngram range starting from 2 to 6. It will consider all multiple characters starts from length 2\r\n",
        "### and extends upto 6\r\n",
        "\r\n",
        "char_vec = TfidfVectorizer(\r\n",
        "    sublinear_tf=True,\r\n",
        "    strip_accents='unicode',\r\n",
        "    analyzer='char',\r\n",
        "    stop_words='english',\r\n",
        "    ngram_range=(2, 6),\r\n",
        "    max_features=50000)\r\n",
        "train_char_features = char_vec.fit_transform(train_data)\r\n",
        "test_char_features = char_vec.fit_transform(test_data)"
      ],
      "execution_count": 14,
      "outputs": []
    },
    {
      "cell_type": "code",
      "metadata": {
        "id": "Nrbz-QuC5RIp"
      },
      "source": [
        "### Stacking the word and character embeddings together\r\n",
        "\r\n",
        "train_final_features = hstack([train_char_features, train_word_features])\r\n",
        "test_final_features = hstack([test_char_features, test_word_features])\r\n"
      ],
      "execution_count": 15,
      "outputs": []
    },
    {
      "cell_type": "code",
      "metadata": {
        "id": "VhbzGNQdzV8e"
      },
      "source": [
        "### We have our input feature set available. Now we need to select the classification method and we have multilabel multi classification problem. \r\n",
        "### There are multiple approaches which can be used to transform multilabel problem into multiple single-label problems, so that the existing single-label algorithms can be used.\r\n",
        "### We can use either OneVsRest strategy. This method falls under Problem transformation methods category.In an “one-to-rest” strategy, we can build multiple independent classifiers and, for an unseen instance, \r\n",
        "### choose the class for which the confidence is maximized. In this method, for every label a classifier is build and predictions are made for that particular label. \r\n",
        "### This method doesn't consider the underlying correlation between the variables. we do have few variables which are highly correlated. \r\n",
        "### Another methods are algorithm adaptation methods. These methods try to address the the problem in its full form. It doesn't try and convert the \r\n",
        "### problem to a simpler problem. Moreover these methods consider the underlying correlation between different variables. I used Label Power set method. It \r\n",
        "### transforms the multilabel problem to multiclass problem with 2^l possible labels(class values). So for every observation all the available multiple classes are assigned.\r\n",
        "### It considers label dependency. Our standard ML algorithm calculates the probability distribtuion. I used logistic regression for that. \r\n",
        "### Label Power set method assigns the rankings to the classes based on the probability.  I tried Power set method many times but everytime google collab crashed.\r\n",
        "### I tried sampling 60000 rows and tried building model using reduced dataset. Still it crashed. My local system also crashed multipl times. \r\n",
        "### Hence I built model using OneVsRest method which includes logistic regression classifier.\r\n"
      ],
      "execution_count": null,
      "outputs": []
    },
    {
      "cell_type": "code",
      "metadata": {
        "colab": {
          "base_uri": "https://localhost:8080/"
        },
        "id": "VQf2iZhpqXnS",
        "outputId": "8916eedb-ff86-4b97-b066-862f7fb777bc"
      },
      "source": [
        "### OneVsRest method using logistic regression - This is the 1st method I tried. \r\n",
        "\r\n",
        "LogReg_pipeline = Pipeline([('clf', OneVsRestClassifier(LogisticRegression(solver='sag'), n_jobs=-1)),])\r\n",
        "categories = list(train_label.columns.values)\r\n",
        "x_train, x_test, y_train, y_test = train_test_split(train_final_features, train_label, shuffle = True, random_state = 123)\r\n",
        "\r\n",
        "for category in categories:\r\n",
        "    print('**Processing {} comments...**'.format(category))\r\n",
        "    \r\n",
        "    # Training logistic regression model on train data\r\n",
        "    LogReg_pipeline.fit(x_train, y_train[category])\r\n",
        "    \r\n",
        "    # calculating test accuracy\r\n",
        "    prediction = LogReg_pipeline.predict(x_test)\r\n",
        "    print('Test accuracy is {}'.format(accuracy_score(y_test[category], prediction)))\r\n",
        "    print(\"\\n\")"
      ],
      "execution_count": 16,
      "outputs": [
        {
          "output_type": "stream",
          "text": [
            "**Processing toxic comments...**\n",
            "Test accuracy is 0.9625748878249317\n",
            "\n",
            "\n",
            "**Processing severe_toxic comments...**\n",
            "Test accuracy is 0.9903491840673803\n",
            "\n",
            "\n",
            "**Processing obscene comments...**\n",
            "Test accuracy is 0.9801468929386108\n",
            "\n",
            "\n",
            "**Processing threat comments...**\n",
            "Test accuracy is 0.997443160454215\n",
            "\n",
            "\n",
            "**Processing insult comments...**\n",
            "Test accuracy is 0.9730027824430351\n",
            "\n",
            "\n",
            "**Processing identity_hate comments...**\n",
            "Test accuracy is 0.9925550848519791\n",
            "\n",
            "\n"
          ],
          "name": "stdout"
        }
      ]
    },
    {
      "cell_type": "code",
      "metadata": {
        "colab": {
          "base_uri": "https://localhost:8080/"
        },
        "id": "R8vOf2TlcKTG",
        "outputId": "bd331794-468c-40b0-9161-df7d72c335d4"
      },
      "source": [
        "### label powerset multi-label classifier - This is the reference code which I tried. Due to lack of processing capabilties, it took longer time and google collab\r\n",
        "### crashed multiple times. This may or may not work. \r\n",
        "\r\n",
        "\r\n",
        "x_train, x_test, y_train, y_test = train_test_split(train_final_features, train_label, shuffle = True, random_state = 123)\r\n",
        "\r\n",
        "# initialize label powerset multi-label classifier\r\n",
        "classifier = LabelPowerset(LogisticRegression())\r\n",
        "# training the classifier \r\n",
        "classifier.fit(x_train, y_train)\r\n",
        "# making predictions\r\n",
        "predictions = classifier.predict(x_test)\r\n",
        "# accuracy\r\n",
        "print(\"Accuracy = \",accuracy_score(y_test,predictions))\r\n",
        "print(\"\\n\")\r\n"
      ],
      "execution_count": null,
      "outputs": [
        {
          "output_type": "stream",
          "text": [
            "Requirement already satisfied: scikit-multilearn in /usr/local/lib/python3.7/dist-packages (0.2.0)\n"
          ],
          "name": "stdout"
        }
      ]
    },
    {
      "cell_type": "code",
      "metadata": {
        "id": "8za4TLRhuHiO"
      },
      "source": [
        "#### Complete description of classification system using neural networks\n",
        "\n",
        "## This classification system is built using traditional ML model. I used logistic regression. \n",
        "\n",
        "### Process performed in this classification model are mentioned below.\n",
        "## Reading the dataset using pandas dataframe and checking whether it contains any null observations or not. There are no nulls in this dataset.\n",
        "## Many people clean the data first and then perform visualizations. I performed visualizations first. \n",
        "## I created 4 visualizations. \n",
        "## 1st visualization is a Bar graph of total number of comments per label. It is helpful in identifying the total number of comments per label\n",
        "## 2nd visualization is a Bar graph of Total No. of labels in a sentence against Total no. of sentences. \n",
        "## From 2nd visualization we can observe whether a sentence belongs to only one category or many categories. We can say that\n",
        "## there are many sentences which are not classified(label 0) but many sentences falls under more than 1 category.\n",
        "## 3rd Visualization is a Graph of individual class against the total no. of labelled and unlabelled sentences for the same class. \n",
        "## 4th Visualization is a Correlation graph(matrix) between different variables\n",
        "\n",
        "## From visualization we can conclude that,  1) A single sentence can have multiple labels (categories).\n",
        "## 2) Some labels are highely correlated to each other.\n",
        "## 3) This is multi label classification problem. Hence we can use sigmoid function in the output layer.\n",
        "\n",
        "### Next part includes cleaning the data. Data cleaning part is performed on the input text. \n",
        "## I created a function, which performs below activities: \n",
        "## 1) remove punctuations  , 2) removing stopwords , 3) lowercasing the words\n",
        "## 4) removing the non - alphanumeric characters, 5) removing the extra spaces between words, 6) taking root/leaf of each word by performing stemmatization\n",
        "## 7) removing urls\n",
        "\n",
        "### Once we have cleaned the data, next part is creating input feature vectors.  \n",
        "## Tf-Idf vectorization method is used to create input features. A single input feature is the combination of characters and words.  \n",
        "## once we have the input features, those features are given to the logistic regression model. \n",
        "## OneVsRest method is used to generate logistic regression model. I have added the code for Label Powerset also. OneVsRest helps us to decompose multiple\n",
        "## labels into single label and helps us in predicting the labelwise accuracy. \n",
        "## Accuracy for individual label is as follows: toxic label:0.9625999548793022, severe_toxic comments:0.9903993181761211, obscene comments:0.9801468929386108,\n",
        "## threat comments:0.9974682275085854, insult comments:0.9731782518236282, identity_hate comments:0.9924297495801269\n",
        "## Accuracy can be defined as the ability to correctly predict the labels.\n"
      ],
      "execution_count": null,
      "outputs": []
    }
  ]
}